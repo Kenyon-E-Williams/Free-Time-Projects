{
 "cells": [
  {
   "cell_type": "code",
   "execution_count": 9,
   "id": "137a9e84",
   "metadata": {},
   "outputs": [
    {
     "name": "stdout",
     "output_type": "stream",
     "text": [
      "Rock, Paper, Scissors... Lets do this\n",
      "Alright, Rock, Paper or Scissors? What do you choose?:you\n",
      "Please enter a valid selection bro\n",
      "Do you wanna play again chump? Yes or No?:you\n",
      "Come on man, it's a simple yes or no question\n",
      "Alright, Rock, Paper or Scissors? What do you choose?:scissors\n",
      "I chose Scissors, you chose Scissors\n",
      " its a tie\n",
      "Do you wanna play again chump? Yes or No?:No\n",
      "Yeah thats what I thought chump!!! Better luck Next time\n"
     ]
    }
   ],
   "source": [
    "import random\n",
    "\n",
    "print('Rock, Paper, Scissors... Lets do this')\n",
    "\n",
    "def game():\n",
    "    R_P_S=['Rock','Paper','Scissors']\n",
    "    computer=random.choice(R_P_S)\n",
    "    \n",
    "    player=input(\"Alright, Rock, Paper or Scissors? What do you choose?:\").capitalize()\n",
    "    \n",
    "    if computer==\"Rock\":\n",
    "        if player==\"Rock\":\n",
    "            print(f\"I chose {computer}, you chose {player}\\n its a tie\")\n",
    "        elif player==\"Scissors\":\n",
    "            print(f\"Have you tried trying? I chose {computer}, you chose {player}\\n you lose\")\n",
    "        elif player==\"Paper\":\n",
    "            print(f\"You're pretty good at this! I chose {computer}, you chose {player}\\n you win\")\n",
    "        else:\n",
    "            print(f\"Please enter a valid selection bro\")\n",
    "    if computer==\"Paper\":\n",
    "        if player==\"Rock\":\n",
    "            print(f\"Have you tried trying? I chose {computer}, you chose {player}\\n you lose\")\n",
    "        elif player==\"Scissors\":\n",
    "            print(f\"You're pretty good at this! I chose {computer}, you chose {player}\\n you win\")\n",
    "        elif player==\"Paper\":\n",
    "            print(f\"I chose {computer}, you chose {player}\\n its a tie\")\n",
    "        else:\n",
    "            print(f\"Please enter a valid selection bro\")\n",
    "    if computer==\"Scissors\":\n",
    "        if player==\"Rock\":\n",
    "            print(f\"You're pretty good at this! I chose {computer}, you chose {player}\\n you win\")\n",
    "        elif player==\"Scissors\":\n",
    "            print(f\"I chose {computer}, you chose {player}\\n its a tie\")\n",
    "        elif player==\"Paper\":\n",
    "            print(f\"Have you tried trying? I chose {computer}, you chose {player}\\n you lose\")\n",
    "        else:\n",
    "            print(f\"Please enter a valid selection bro\")\n",
    "\n",
    "    play_again=input(\"Do you wanna play again chump? Yes or No?:\").capitalize()\n",
    "    if play_again==\"Yes\":\n",
    "        game()\n",
    "    elif play_again==\"No\":\n",
    "        print(\"Yeah thats what I thought chump!!! Better luck Next time\")\n",
    "    else:\n",
    "        print(\"Come on man, it's a simple yes or no question\")\n",
    "        game()\n",
    "\n",
    "                  \n",
    "game()"
   ]
  }
 ],
 "metadata": {
  "kernelspec": {
   "display_name": "Python 3 (ipykernel)",
   "language": "python",
   "name": "python3"
  },
  "language_info": {
   "codemirror_mode": {
    "name": "ipython",
    "version": 3
   },
   "file_extension": ".py",
   "mimetype": "text/x-python",
   "name": "python",
   "nbconvert_exporter": "python",
   "pygments_lexer": "ipython3",
   "version": "3.9.13"
  }
 },
 "nbformat": 4,
 "nbformat_minor": 5
}
