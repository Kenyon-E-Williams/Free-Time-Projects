{
 "cells": [
  {
   "cell_type": "code",
   "execution_count": 57,
   "id": "41b573a1",
   "metadata": {},
   "outputs": [
    {
     "name": "stdout",
     "output_type": "stream",
     "text": [
      "Please enter a side length:3\n",
      "Please enter another side length:4.5\n",
      "The 3rd side of your triagnle is:5.408326913195984\n",
      "The area of the figure you have configure is:6.75\n"
     ]
    }
   ],
   "source": [
    "import math\n",
    "def pythagorean():\n",
    "    side1=float(input(\"Please enter a side length:\"))\n",
    "    side2=float(input(\"Please enter another side length:\"))\n",
    "    side3=float(math.sqrt((side1**2)+(side2**2)))\n",
    "    thirdside=str(\"The 3rd side of your triagnle is:\")\n",
    "    area=float((side1*side2)/2)\n",
    "    areastatement=str(\"The area of the figure you have configure is:\")\n",
    "    print(thirdside.strip(\" \\' \"), end='')\n",
    "    print(side3)\n",
    "    print(areastatement.strip(\" \\' \"), end='')\n",
    "    print(area)\n",
    "pythagorean()\n",
    "\n",
    "#try:\n",
    "    #side1=int(side1)\n",
    "#except ValueError:\n",
    "    #print(\"Please enter an Integer\")"
   ]
  }
 ],
 "metadata": {
  "kernelspec": {
   "display_name": "Python 3 (ipykernel)",
   "language": "python",
   "name": "python3"
  },
  "language_info": {
   "codemirror_mode": {
    "name": "ipython",
    "version": 3
   },
   "file_extension": ".py",
   "mimetype": "text/x-python",
   "name": "python",
   "nbconvert_exporter": "python",
   "pygments_lexer": "ipython3",
   "version": "3.9.13"
  }
 },
 "nbformat": 4,
 "nbformat_minor": 5
}
